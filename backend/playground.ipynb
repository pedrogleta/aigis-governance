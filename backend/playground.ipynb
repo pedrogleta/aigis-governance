{
 "cells": [
  {
   "cell_type": "code",
   "execution_count": 5,
   "id": "bb673b43",
   "metadata": {},
   "outputs": [
    {
     "data": {
      "image/png": "[encoded data removed]",
      "text/plain": [
       "<IPython.core.display.Image object>"
      ]
     },
     "metadata": {},
     "output_type": "display_data"
    }
   ],
   "source": [
    "from IPython.display import Image, display\n",
    "from langgraph.graph import StateGraph, START, END, MessagesState\n",
    "from langgraph.checkpoint.memory import MemorySaver\n",
    "from langchain.chat_models import init_chat_model\n",
    "from langchain_core.messages import AIMessage, HumanMessage, SystemMessage\n",
    "from pydantic import BaseModel\n",
    "\n",
    "\n",
    "from dotenv import load_dotenv\n",
    "\n",
    "\n",
    "load_dotenv(override=True)\n",
    "\n",
    "\n",
    "def multiply(a: int, b: int) -> int:\n",
    "    \"\"\"Multiply a and b.\n",
    "\n",
    "    Args:\n",
    "        a: first int\n",
    "        b: second int\n",
    "    \"\"\"\n",
    "    return a * b\n",
    "\n",
    "\n",
    "sys_msg = SystemMessage(\n",
    "    content=\"You are a helpful assistant tasked with performing arithmetic on a set of inputs.\"\n",
    ")\n",
    "model = init_chat_model(\"deepseek-chat\", model_provider=\"deepseek\")\n",
    "tools = [multiply]\n",
    "model_with_tools = model.bind_tools(tools)\n",
    "\n",
    "\n",
    "class State(BaseModel):\n",
    "    messages: list[str]\n",
    "    db_schema: str\n",
    "\n",
    "\n",
    "def assistant(state: MessagesState):\n",
    "    return {\"messages\": [model_with_tools.invoke([sys_msg] + state[\"messages\"])]}\n",
    "\n",
    "\n",
    "def get_schema(state: State):\n",
    "    state.db_schema = \"gets database schema\"\n",
    "    return state\n",
    "\n",
    "\n",
    "workdflow = StateGraph(MessagesState)\n",
    "\n",
    "workdflow.add_node(get_schema)\n",
    "\n",
    "workdflow.add_edge(START, \"get_schema\")\n",
    "workdflow.add_edge(\"get_schema\", END)\n",
    "\n",
    "graph = workdflow.compile(checkpointer=MemorySaver())\n",
    "display(Image(graph.get_graph().draw_mermaid_png()))\n",
    "# print(graph.get_graph().draw_mermaid())\n",
    "# print(\"--------------------------\")\n",
    "# print(graph.get_graph().draw_ascii())\n",
    "\n",
    "\n",
    "config = {\"configurable\": {\"thread_id\": \"1\"}}"
   ]
  },
  {
   "cell_type": "markdown",
   "id": "35581c73",
   "metadata": {},
   "source": [
    "# Local LLM\n"
   ]
  },
  {
   "cell_type": "code",
   "execution_count": 37,
   "id": "7032da6f",
   "metadata": {},
   "outputs": [
    {
     "data": {
      "image/png": "[encoded data removed]",
      "text/plain": [
       "<IPython.core.display.Image object>"
      ]
     },
     "metadata": {},
     "output_type": "display_data"
    }
   ],
   "source": [
    "import os\n",
    "from IPython.display import Image, display\n",
    "from langgraph.graph import StateGraph, START, END, MessagesState\n",
    "from langgraph.checkpoint.memory import MemorySaver\n",
    "from langchain.chat_models import init_chat_model\n",
    "from langchain_core.messages import AIMessage, HumanMessage, SystemMessage\n",
    "from pydantic import BaseModel\n",
    "import operator\n",
    "from typing import Annotated, Any, TypedDict, Optional, cast\n",
    "from langchain_core.documents import Document\n",
    "from langchain_community.document_loaders import WikipediaLoader\n",
    "from langchain_community.tools.tavily_search import TavilySearchResults\n",
    "from dotenv import load_dotenv\n",
    "\n",
    "load_dotenv(override=True)\n",
    "\n",
    "\n",
    "class State(TypedDict):\n",
    "    question: str\n",
    "    answer: str\n",
    "    context: Annotated[list, operator.add]\n",
    "\n",
    "\n",
    "llm = init_chat_model(\n",
    "    \"qwen/qwen3-8b\",\n",
    "    temperature=0,\n",
    "    model_provider=\"openai\",\n",
    "    base_url=os.getenv(\"LM_STUDIO_ENDPOINT\", \"http://0.0.0.0:1234/v1\"),\n",
    "    api_key=\"not-needed\",\n",
    ")\n",
    "\n",
    "\n",
    "def search_web(state):\n",
    "    \"\"\"Retrieve docs from web search\"\"\"\n",
    "\n",
    "    tavily_search = TavilySearchResults(max_results=1)\n",
    "    search_docs = tavily_search.invoke(state[\"question\"])\n",
    "\n",
    "    formatted_search_docs = \"\\n\\n---\\n\\n\".join(\n",
    "        [\n",
    "            f'<Document href=\"{doc[\"url\"]}\"/>\\n{doc[\"content\"]}\\n</Document>'\n",
    "            for doc in search_docs\n",
    "        ]\n",
    "    )\n",
    "\n",
    "    return {\"context\": [formatted_search_docs]}\n",
    "\n",
    "\n",
    "def search_wikipedia(state):\n",
    "    \"\"\"Retrieve docs from wikipedia\"\"\"\n",
    "\n",
    "    search_docs = WikipediaLoader(query=state[\"question\"], load_max_docs=2).load()\n",
    "\n",
    "    formatted_search_docs = \"\\n\\n---\\n\\n\".join(\n",
    "        [\n",
    "            f'<Document source=\"{doc.metadata[\"source\"]}\" page=\"{doc.metadata.get(\"page\", \"\")}\"/>\\n{doc.page_content}\\n</Document>'\n",
    "            for doc in search_docs\n",
    "        ]\n",
    "    )\n",
    "\n",
    "    return {\"context\": [formatted_search_docs]}\n",
    "\n",
    "\n",
    "def generate_answer(state):\n",
    "    \"\"\"Node to answer a question\"\"\"\n",
    "\n",
    "    context = state[\"context\"]\n",
    "    question = state[\"question\"]\n",
    "\n",
    "    answer_template = \"\"\"Answer the question {question} using this context: {context}\"\"\"\n",
    "    answer_instructions = answer_template.format(question=question, context=context)\n",
    "\n",
    "    answer = llm.invoke(\n",
    "        [SystemMessage(content=answer_instructions)]\n",
    "        + [HumanMessage(content=\"Answer the question.\")]\n",
    "    )\n",
    "\n",
    "    return {\"answer\": answer}\n",
    "\n",
    "\n",
    "builder = StateGraph(State)\n",
    "\n",
    "# builder.add_node(\"search_web\", search_web)\n",
    "builder.add_node(\"search_wikipedia\", search_wikipedia)\n",
    "builder.add_node(\"generate_answer\", generate_answer)\n",
    "\n",
    "builder.add_edge(START, \"search_wikipedia\")\n",
    "# builder.add_edge(START, \"search_web\")\n",
    "builder.add_edge(\"search_wikipedia\", \"generate_answer\")\n",
    "# builder.add_edge(\"search_web\", \"generate_answer\")\n",
    "builder.add_edge(\"generate_answer\", END)\n",
    "\n",
    "graph = builder.compile()\n",
    "\n",
    "\n",
    "display(Image(graph.get_graph().draw_mermaid_png()))\n",
    "\n",
    "\n",
    "# model.invoke(\"hi, who are you?\")\n"
   ]
  },
  {
   "cell_type": "code",
   "execution_count": 38,
   "id": "e0b99535",
   "metadata": {},
   "outputs": [
    {
     "data": {
      "text/plain": [
       "'The latest released Barbie movie is *Barbie*, which was released in 2023.'"
      ]
     },
     "execution_count": 38,
     "metadata": {},
     "output_type": "execute_result"
    }
   ],
   "source": [
    "result = graph.invoke(\n",
    "    cast(\n",
    "        State,\n",
    "        {\n",
    "            \"question\": \"Which was the latest released Barbie movie?\",\n",
    "        },\n",
    "    )\n",
    ")\n",
    "\n",
    "result[\"answer\"].content"
   ]
  },
  {
   "cell_type": "markdown",
   "id": "a8bb3788",
   "metadata": {},
   "source": [
    "# Map\n"
   ]
  },
  {
   "cell_type": "code",
   "execution_count": 42,
   "id": "f234afa9",
   "metadata": {},
   "outputs": [
    {
     "data": {
      "image/png": "[encoded data removed]",
      "text/plain": [
       "<IPython.core.display.Image object>"
      ]
     },
     "metadata": {},
     "output_type": "display_data"
    }
   ],
   "source": [
    "import os\n",
    "from IPython.display import Image, display\n",
    "from langgraph.graph import StateGraph, START, END, MessagesState\n",
    "from langgraph.checkpoint.memory import MemorySaver\n",
    "from langgraph.types import Send\n",
    "from langchain.chat_models import init_chat_model\n",
    "from langchain_core.messages import AIMessage, HumanMessage, SystemMessage\n",
    "from pydantic import BaseModel\n",
    "import operator\n",
    "from typing import Annotated, Any, TypedDict, Optional, cast\n",
    "from langchain_core.documents import Document\n",
    "from langchain_community.document_loaders import WikipediaLoader\n",
    "from langchain_community.tools.tavily_search import TavilySearchResults\n",
    "from dotenv import load_dotenv\n",
    "\n",
    "load_dotenv(override=True)\n",
    "\n",
    "\n",
    "class State(TypedDict):\n",
    "    question: str\n",
    "    answer: str\n",
    "    context: Annotated[list, operator.add]\n",
    "\n",
    "\n",
    "subjects_prompt = \"\"\"Generate a comma separated list of between 2 and 5 examples related to: {topic}\"\"\"\n",
    "joke_prompt = \"\"\"Generate a joke about {subject}\"\"\"\n",
    "best_joke_prompt = \"\"\"Below are a bunch of jokes about {topic}. Select the best one! Return the ID of the best one, starting 0 as the ID for the first one\\n\"\"\"\n",
    "\n",
    "llm = init_chat_model(\n",
    "    \"qwen/qwen3-8b\",\n",
    "    temperature=1,\n",
    "    model_provider=\"openai\",\n",
    "    base_url=os.getenv(\"LM_STUDIO_ENDPOINT\", \"http://0.0.0.0:1234/v1\"),\n",
    "    api_key=\"not-needed\",\n",
    ")\n",
    "\n",
    "\n",
    "class Subjects(BaseModel):\n",
    "    subjects: list[str]\n",
    "\n",
    "\n",
    "class BestJoke(BaseModel):\n",
    "    id: int\n",
    "\n",
    "\n",
    "class OverallState(TypedDict):\n",
    "    topic: str\n",
    "    subjects: list\n",
    "    jokes: Annotated[list, operator.add]\n",
    "    best_selected_joke: str\n",
    "\n",
    "\n",
    "def generate_topics(state: OverallState):\n",
    "    prompt = subjects_prompt.format(topic=state[\"topic\"])\n",
    "    response = cast(Subjects, llm.with_structured_output(Subjects).invoke(prompt))\n",
    "    return {\"subjects\": response.subjects}\n",
    "\n",
    "\n",
    "def continue_to_jokes(state: OverallState):\n",
    "    return [Send(\"generate_joke\", {\"subject\": s}) for s in state[\"subjects\"]]\n",
    "\n",
    "\n",
    "class JokeState(TypedDict):\n",
    "    subject: str\n",
    "\n",
    "\n",
    "class Joke(BaseModel):\n",
    "    joke: str\n",
    "\n",
    "\n",
    "def generate_joke(state: JokeState):\n",
    "    prompt = joke_prompt.format(subject=state[\"subject\"])\n",
    "    response = cast(Joke, llm.with_structured_output(Joke).invoke(prompt))\n",
    "    return {\"jokes\": [response.joke]}\n",
    "\n",
    "\n",
    "def best_joke(state: OverallState):\n",
    "    jokes = \"\\n\\n\".join(state[\"jokes\"])\n",
    "    prompt = best_joke_prompt.format(topic=state[\"topic\"], jokes=jokes)\n",
    "    response = cast(BestJoke, llm.with_structured_output(BestJoke).invoke(prompt))\n",
    "    return {\"best_selected_joke\": state[\"jokes\"][response.id]}\n",
    "\n",
    "\n",
    "builder = StateGraph(OverallState)\n",
    "\n",
    "builder.add_node(\"generate_topics\", generate_topics)\n",
    "builder.add_node(\"generate_joke\", generate_joke)\n",
    "builder.add_node(\"best_joke\", best_joke)\n",
    "\n",
    "builder.add_edge(START, \"generate_topics\")\n",
    "builder.add_conditional_edges(\"generate_topics\", continue_to_jokes, [\"generate_joke\"])\n",
    "builder.add_edge(\"generate_joke\", \"best_joke\")\n",
    "builder.add_edge(\"best_joke\", END)\n",
    "graph = builder.compile()\n",
    "\n",
    "\n",
    "display(Image(graph.get_graph().draw_mermaid_png()))\n",
    "\n",
    "\n",
    "# model.invoke(\"hi, who are you?\")\n"
   ]
  },
  {
   "cell_type": "code",
   "execution_count": 45,
   "id": "a389e5ae",
   "metadata": {},
   "outputs": [
    {
     "name": "stdout",
     "output_type": "stream",
     "text": [
      "{'generate_topics': {'subjects': ['dogs', 'elephants', 'butterflies', 'sharks', 'penguins']}}\n",
      "{'generate_joke': {'jokes': [\"Why don't dogs ever get cold? Because they always have their tails in the fire!\"]}}\n",
      "{'generate_joke': {'jokes': [\"Why don't elephants use computers? They have too many bytes!\"]}}\n",
      "{'generate_joke': {'jokes': [\"Why don't penguins ever get cold? Because they've got a lot of friends to keep them warm!\"]}}\n",
      "{'generate_joke': {'jokes': [\"Why don't butterflies ever get cold? Because they always carry their own 'wing' of heat!\"]}}\n",
      "{'generate_joke': {'jokes': [\"Why don't sharks ever win at hide and seek? Because they always get caught in the first five minutes!\"]}}\n",
      "{'best_joke': {'best_selected_joke': \"Why don't butterflies ever get cold? Because they always carry their own 'wing' of heat!\"}}\n"
     ]
    }
   ],
   "source": [
    "for s in graph.stream(cast(OverallState, {\"topic\": \"animals\"})):\n",
    "    print(s)"
   ]
  },
  {
   "cell_type": "markdown",
   "id": "d0fdcf4f",
   "metadata": {},
   "source": [
    "# Research Assistant\n"
   ]
  },
  {
   "cell_type": "code",
   "execution_count": 48,
   "id": "38702ad3",
   "metadata": {},
   "outputs": [
    {
     "data": {
      "image/png": "[encoded data removed]",
      "text/plain": [
       "<IPython.core.display.Image object>"
      ]
     },
     "metadata": {},
     "output_type": "display_data"
    }
   ],
   "source": [
    "import os\n",
    "from IPython.display import Image, display\n",
    "from langgraph.graph import StateGraph, START, END, MessagesState\n",
    "from langgraph.checkpoint.memory import MemorySaver\n",
    "from langgraph.types import Send\n",
    "from langchain.chat_models import init_chat_model\n",
    "from langchain_core.messages import AIMessage, HumanMessage, SystemMessage\n",
    "from pydantic import BaseModel, Field\n",
    "import operator\n",
    "from typing import Annotated, Any, TypedDict, Optional, cast, List\n",
    "from langchain_core.documents import Document\n",
    "from langgraph.graph.state import RunnableConfig\n",
    "from langchain_community.document_loaders import WikipediaLoader\n",
    "from langchain_community.tools.tavily_search import TavilySearchResults\n",
    "from dotenv import load_dotenv\n",
    "\n",
    "load_dotenv(override=True)\n",
    "\n",
    "\n",
    "class Analyst(BaseModel):\n",
    "    affiliation: str = Field(description=\"Primary affiliation of the analyst.\")\n",
    "    name: str = Field(description=\"Name of the analyst.\")\n",
    "    role: str = Field(description=\"Role of the analyst in the context of the topic.\")\n",
    "    description: str = Field(\n",
    "        description=\"Description of the analyst focus, concerns and motives.\"\n",
    "    )\n",
    "\n",
    "    @property\n",
    "    def persona(self) -> str:\n",
    "        return f\"Name: {self.name}\\nRole: {self.role}\\nAffiliation: {self.affiliation}\\nDescription: {self.description}\\n\"\n",
    "\n",
    "\n",
    "class Perspectives(BaseModel):\n",
    "    analysts: List[Analyst] = Field(\n",
    "        description=\"Comprehensive list of analysts with their roles and affiliations.\"\n",
    "    )\n",
    "\n",
    "\n",
    "class GenerateAnalystsState(TypedDict):\n",
    "    topic: str\n",
    "    max_analysts: int\n",
    "    human_analyst_feedback: str\n",
    "    analysts: List[Analyst]\n",
    "\n",
    "\n",
    "class State(TypedDict):\n",
    "    question: str\n",
    "    answer: str\n",
    "    context: Annotated[list, operator.add]\n",
    "\n",
    "\n",
    "analyst_instructions = \"\"\"You are tasked with creating a set of AI analyst personas. Follow these instructions carefully:\n",
    "\n",
    "1. First, review the research topic:\n",
    "{topic}\n",
    "\n",
    "2. Examine any editorial feedback that has been optionally provided to guide creation of the analysis:\n",
    "{human_analyst_feedback}\n",
    "\n",
    "3. Determine the most interesting themes based upon documents and / or feedback above.\n",
    "\n",
    "4. Pick the top {max_analysts} themes.\n",
    "\n",
    "5. Assign one analyst to each theme.\n",
    "\"\"\"\n",
    "\n",
    "\n",
    "def create_analysts(state: GenerateAnalystsState):\n",
    "    \"\"\"Create analysts\"\"\"\n",
    "\n",
    "    topic = state[\"topic\"]\n",
    "    max_analysts = state[\"max_analysts\"]\n",
    "    human_analyst_feedback = state.get(\"human_analyst_feedback\", \"\")\n",
    "\n",
    "    structured_llm = llm.with_structured_output(Perspectives)\n",
    "\n",
    "    system_message = analyst_instructions.format(\n",
    "        topic=topic,\n",
    "        human_analyst_feedback=human_analyst_feedback,\n",
    "        max_analysts=max_analysts,\n",
    "    )\n",
    "\n",
    "    analysts = cast(\n",
    "        Perspectives,\n",
    "        structured_llm.invoke(\n",
    "            [SystemMessage(content=system_message)]\n",
    "            + [HumanMessage(content=\"Generate the set of analysts.\")]\n",
    "        ),\n",
    "    )\n",
    "\n",
    "    return {\"analysts\": analysts.analysts}\n",
    "\n",
    "\n",
    "def human_feedback(state: GenerateAnalystsState):\n",
    "    \"\"\"No-op node that should be interrupted on\"\"\"\n",
    "    pass\n",
    "\n",
    "\n",
    "def should_continue(state: GenerateAnalystsState):\n",
    "    \"\"\"Return the next node to execute\"\"\"\n",
    "\n",
    "    human_analyst_feedback = state.get(\"human_analyst_feedback\", None)\n",
    "    if human_analyst_feedback:\n",
    "        return \"create_analysts\"\n",
    "\n",
    "    return END\n",
    "\n",
    "\n",
    "builder = StateGraph(GenerateAnalystsState)\n",
    "builder.add_node(\"create_analysts\", create_analysts)\n",
    "builder.add_node(\"human_feedback\", human_feedback)\n",
    "builder.add_edge(START, \"create_analysts\")\n",
    "builder.add_edge(\"create_analysts\", \"human_feedback\")\n",
    "builder.add_conditional_edges(\n",
    "    \"human_feedback\", should_continue, [\"create_analysts\", END]\n",
    ")\n",
    "\n",
    "\n",
    "memory = MemorySaver()\n",
    "graph = builder.compile(interrupt_before=[\"human_feedback\"], checkpointer=memory)\n",
    "\n",
    "display(Image(graph.get_graph(xray=1).draw_mermaid_png()))\n"
   ]
  },
  {
   "cell_type": "code",
   "execution_count": 49,
   "id": "4b73557e",
   "metadata": {},
   "outputs": [
    {
     "name": "stdout",
     "output_type": "stream",
     "text": [
      "Name: Dr. Elena Marquez\n",
      "Affiliation: Tech Innovation Lab\n",
      "Role: AI Framework Strategist\n",
      "Description: Specializes in evaluating AI frameworks for enterprise scalability and integration capabilities, with a focus on how they align with business objectives and technical infrastructure.\n",
      "--------------------------------------------------\n",
      "Name: Prof. Rajesh Patel\n",
      "Affiliation: Quantum Computing Institute\n",
      "Role: Theoretical AI Architect\n",
      "Description: Expert in theoretical models of AI systems, particularly interested in the mathematical foundations and computational efficiency of advanced frameworks like LangGraph.\n",
      "--------------------------------------------------\n",
      "Name: Lila Chen\n",
      "Affiliation: Open Source Research Group\n",
      "Role: Community & Ecosystem Analyst\n",
      "Description: Focuses on open-source technologies and their community-driven development, assessing how platforms like LangGraph contribute to and benefit from collaborative innovation ecosystems.\n",
      "--------------------------------------------------\n"
     ]
    }
   ],
   "source": [
    "max_analysts = 3\n",
    "topic = \"\"\"The benefits of adopting LangGraph as an agent framework\"\"\"\n",
    "thread = cast(RunnableConfig, {\"configurable\": {\"thread_id\": \"1\"}})\n",
    "graph_input = cast(\n",
    "    GenerateAnalystsState, {\"topic\": topic, \"max_analysts\": max_analysts}\n",
    ")\n",
    "\n",
    "for event in graph.stream(graph_input, thread, stream_mode=\"values\"):\n",
    "    analysts = event.get(\"analysts\", \"\")\n",
    "    if analysts:\n",
    "        for analyst in analysts:\n",
    "            print(f\"Name: {analyst.name}\")\n",
    "            print(f\"Affiliation: {analyst.affiliation}\")\n",
    "            print(f\"Role: {analyst.role}\")\n",
    "            print(f\"Description: {analyst.description}\")\n",
    "            print(\"-\" * 50)"
   ]
  },
  {
   "cell_type": "code",
   "execution_count": 50,
   "id": "5e8dec8e",
   "metadata": {},
   "outputs": [
    {
     "data": {
      "text/plain": [
       "('human_feedback',)"
      ]
     },
     "execution_count": 50,
     "metadata": {},
     "output_type": "execute_result"
    }
   ],
   "source": [
    "state = graph.get_state(thread)\n",
    "state.next"
   ]
  },
  {
   "cell_type": "code",
   "execution_count": 51,
   "id": "bc55ad6a",
   "metadata": {},
   "outputs": [
    {
     "data": {
      "text/plain": [
       "{'configurable': {'thread_id': '1',\n",
       "  'checkpoint_ns': '',\n",
       "  'checkpoint_id': '1f07dd95-4ea8-6b70-8002-02928785d5d3'}}"
      ]
     },
     "execution_count": 51,
     "metadata": {},
     "output_type": "execute_result"
    }
   ],
   "source": [
    "graph.update_state(\n",
    "    thread,\n",
    "    {\n",
    "        \"human_analyst_feedback\": \"Add in someone from a startup to add an entrepeneur perspective\"\n",
    "    },\n",
    "    as_node=\"human_feedback\",\n",
    ")"
   ]
  },
  {
   "cell_type": "code",
   "execution_count": 52,
   "id": "e5a8d765",
   "metadata": {},
   "outputs": [
    {
     "name": "stdout",
     "output_type": "stream",
     "text": [
      "Name: Dr. Elena Marquez\n",
      "Affiliation: Tech Innovation Lab\n",
      "Role: AI Framework Strategist\n",
      "Description: Specializes in evaluating AI frameworks for enterprise scalability and integration capabilities, with a focus on how they align with business objectives and technical infrastructure.\n",
      "--------------------------------------------------\n",
      "Name: Prof. Rajesh Patel\n",
      "Affiliation: Quantum Computing Institute\n",
      "Role: Theoretical AI Architect\n",
      "Description: Expert in theoretical models of AI systems, particularly interested in the mathematical foundations and computational efficiency of advanced frameworks like LangGraph.\n",
      "--------------------------------------------------\n",
      "Name: Lila Chen\n",
      "Affiliation: Open Source Research Group\n",
      "Role: Community & Ecosystem Analyst\n",
      "Description: Focuses on open-source technologies and their community-driven development, assessing how platforms like LangGraph contribute to and benefit from collaborative innovation ecosystems.\n",
      "--------------------------------------------------\n",
      "Name: Dr. Emily Chen\n",
      "Affiliation: Tech Consulting Firm\n",
      "Role: Principal AI Analyst\n",
      "Description: Specializes in evaluating enterprise-level AI adoption strategies, with a focus on optimizing operational efficiency through advanced machine learning frameworks and automation technologies.\n",
      "--------------------------------------------------\n",
      "Name: Prof. Rajesh Patel\n",
      "Affiliation: AI Research Lab\n",
      "Role: Lead AI Architect\n",
      "Description: Expert in designing scalable AI architectures, particularly within large-scale distributed systems. Known for his work on integrating natural language processing (NLP) and reinforcement learning into complex decision-making processes.\n",
      "--------------------------------------------------\n",
      "Name: Jordan Lee\n",
      "Affiliation: Startup Accelerator\n",
      "Role: AI Entrepreneur & Founder\n",
      "Description: A serial entrepreneur with a background in AI-driven product development, Jordan brings a hands-on perspective from building scalable SaaS solutions. Focused on innovative use cases and early-stage market validation.\n",
      "--------------------------------------------------\n"
     ]
    }
   ],
   "source": [
    "for event in graph.stream(None, thread, stream_mode=\"values\"):\n",
    "    analysts = event.get(\"analysts\", \"\")\n",
    "    if analysts:\n",
    "        for analyst in analysts:\n",
    "            print(f\"Name: {analyst.name}\")\n",
    "            print(f\"Affiliation: {analyst.affiliation}\")\n",
    "            print(f\"Role: {analyst.role}\")\n",
    "            print(f\"Description: {analyst.description}\")\n",
    "            print(\"-\" * 50)"
   ]
  },
  {
   "cell_type": "code",
   "execution_count": null,
   "id": "e99913c7",
   "metadata": {},
   "outputs": [
    {
     "data": {
      "text/plain": [
       "{'configurable': {'thread_id': '1',\n",
       "  'checkpoint_ns': '',\n",
       "  'checkpoint_id': '1f07dd9a-081b-6447-8004-ecc2ab8c3c0c'}}"
      ]
     },
     "execution_count": 53,
     "metadata": {},
     "output_type": "execute_result"
    }
   ],
   "source": [
    "further_feedback = None\n",
    "graph.update_state(\n",
    "    thread, {\"human_analyst_feedback\": further_feedback}, as_node=\"human_feedback\"\n",
    ")"
   ]
  },
  {
   "cell_type": "code",
   "execution_count": null,
   "id": "97909a3b",
   "metadata": {},
   "outputs": [],
   "source": [
    "for event in graph.stream(None, thread, stream_mode=\"updates\"):\n",
    "    print(\"--None--\")\n",
    "    node_name = next(iter(event.keys()))\n",
    "    print(node_name)"
   ]
  },
  {
   "cell_type": "code",
   "execution_count": null,
   "id": "53789182",
   "metadata": {},
   "outputs": [
    {
     "data": {
      "text/plain": [
       "()"
      ]
     },
     "execution_count": 55,
     "metadata": {},
     "output_type": "execute_result"
    }
   ],
   "source": [
    "final_state = graph.get_state(thread)\n",
    "analysts = final_state.values.get(\"analysts\")\n",
    "final_state.next"
   ]
  },
  {
   "cell_type": "code",
   "execution_count": 56,
   "id": "f8792195",
   "metadata": {},
   "outputs": [
    {
     "name": "stdout",
     "output_type": "stream",
     "text": [
      "Name: Dr. Emily Chen\n",
      "Affiliation: Tech Consulting Firm\n",
      "Role: Principal AI Analyst\n",
      "Description: Specializes in evaluating enterprise-level AI adoption strategies, with a focus on optimizing operational efficiency through advanced machine learning frameworks and automation technologies.\n",
      "--------------------------------------------------\n",
      "Name: Prof. Rajesh Patel\n",
      "Affiliation: AI Research Lab\n",
      "Role: Lead AI Architect\n",
      "Description: Expert in designing scalable AI architectures, particularly within large-scale distributed systems. Known for his work on integrating natural language processing (NLP) and reinforcement learning into complex decision-making processes.\n",
      "--------------------------------------------------\n",
      "Name: Jordan Lee\n",
      "Affiliation: Startup Accelerator\n",
      "Role: AI Entrepreneur & Founder\n",
      "Description: A serial entrepreneur with a background in AI-driven product development, Jordan brings a hands-on perspective from building scalable SaaS solutions. Focused on innovative use cases and early-stage market validation.\n",
      "--------------------------------------------------\n"
     ]
    }
   ],
   "source": [
    "for analyst in analysts:\n",
    "    print(f\"Name: {analyst.name}\")\n",
    "    print(f\"Affiliation: {analyst.affiliation}\")\n",
    "    print(f\"Role: {analyst.role}\")\n",
    "    print(f\"Description: {analyst.description}\")\n",
    "    print(\"-\" * 50)"
   ]
  },
  {
   "cell_type": "code",
   "execution_count": null,
   "id": "66397aa1",
   "metadata": {},
   "outputs": [],
   "source": []
  },
  {
   "cell_type": "code",
   "execution_count": null,
   "id": "09f70baf",
   "metadata": {},
   "outputs": [],
   "source": []
  },
  {
   "cell_type": "code",
   "execution_count": null,
   "id": "98d334ae",
   "metadata": {},
   "outputs": [],
   "source": []
  },
  {
   "cell_type": "code",
   "execution_count": null,
   "id": "35c97233",
   "metadata": {},
   "outputs": [],
   "source": []
  }
 ],
 "metadata": {
  "kernelspec": {
   "display_name": ".venv",
   "language": "python",
   "name": "python3"
  },
  "language_info": {
   "codemirror_mode": {
    "name": "ipython",
    "version": 3
   },
   "file_extension": ".py",
   "mimetype": "text/x-python",
   "name": "python",
   "nbconvert_exporter": "python",
   "pygments_lexer": "ipython3",
   "version": "3.13.5"
  }
 },
 "nbformat": 4,
 "nbformat_minor": 5
}
